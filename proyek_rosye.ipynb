{
  "cells": [
    {
      "cell_type": "markdown",
      "metadata": {
        "id": "view-in-github",
        "colab_type": "text"
      },
      "source": [
        "<a href=\"https://colab.research.google.com/github/rosye2020/kalkulator/blob/master/proyek_rosye.ipynb\" target=\"_parent\"><img src=\"https://colab.research.google.com/assets/colab-badge.svg\" alt=\"Open In Colab\"/></a>"
      ]
    },
    {
      "cell_type": "code",
      "execution_count": null,
      "metadata": {
        "id": "m5EsrC3xKWUO"
      },
      "outputs": [],
      "source": [
        "# Data Diri:#\n",
        "Nama: Rosye Villanova Christine\n",
        "Alamat profil: rosye_villanova_christine_wYBS\n",
        "Domisili: Yogyakarta\n",
        "Email: rosye.uq@gmail.com\n",
        "Program: DBS Foundation Coding Camp 2024\n"
      ]
    },
    {
      "cell_type": "code",
      "execution_count": 24,
      "metadata": {
        "id": "D8kA9TKGKcDG"
      },
      "outputs": [],
      "source": [
        "import tensorflow as tf"
      ]
    },
    {
      "cell_type": "code",
      "execution_count": null,
      "metadata": {
        "id": "FO8j4ms7RGfj"
      },
      "outputs": [],
      "source": [
        "# melakukan ekstraksi pada file zip\n",
        "!wget --no-check-certificate \\\n",
        "    https://github.com/dicodingacademy/assets/releases/download/release/rockpaperscissors.zip \\\n",
        "    -O /tmp/rockpaperscissors.zip\n",
        "\n",
        "import zipfile,os\n",
        "local_zip = '/tmp/rockpaperscissors.zip'\n",
        "zip_ref = zipfile.ZipFile(local_zip, 'r')\n",
        "zip_ref.extractall('/tmp')\n",
        "zip_ref.close()\n",
        "\n",
        "base_dir = '/tmp/images'\n",
        "train_dir = os.path.join(base_dir, 'train')\n",
        "validation_dir = os.path.join(base_dir, 'val')"
      ]
    },
    {
      "cell_type": "code",
      "execution_count": 26,
      "metadata": {
        "colab": {
          "base_uri": "https://localhost:8080/"
        },
        "id": "Ow1p33xYdeIi",
        "outputId": "bb6cc31d-a39e-4bcd-887a-4a3a1497e778"
      },
      "outputs": [
        {
          "output_type": "execute_result",
          "data": {
            "text/plain": [
              "['scissors', 'README_rpc-cv-images.txt', 'rps-cv-images', 'rock', 'paper']"
            ]
          },
          "metadata": {},
          "execution_count": 26
        }
      ],
      "source": [
        "base_dir = '/tmp/rockpaperscissors/rps-cv-images'\n",
        "\n",
        "os.listdir('/tmp/rockpaperscissors')"
      ]
    },
    {
      "cell_type": "code",
      "execution_count": 27,
      "metadata": {
        "id": "Ia-7LSCwRxop",
        "colab": {
          "base_uri": "https://localhost:8080/"
        },
        "outputId": "9e50f324-a42d-4a5d-9cf0-9ec6827a63da"
      },
      "outputs": [
        {
          "output_type": "execute_result",
          "data": {
            "text/plain": [
              "['scissors', 'README_rpc-cv-images.txt', 'rps-cv-images', 'rock', 'paper']"
            ]
          },
          "metadata": {},
          "execution_count": 27
        }
      ],
      "source": [
        "os.listdir('/tmp/rockpaperscissors')"
      ]
    },
    {
      "cell_type": "code",
      "execution_count": 42,
      "metadata": {
        "id": "TBf984haSulm",
        "colab": {
          "base_uri": "https://localhost:8080/"
        },
        "outputId": "9b0b80dc-f8fd-436e-bbad-174ad90c749e"
      },
      "outputs": [
        {
          "output_type": "stream",
          "name": "stdout",
          "text": [
            "Found 1314 images belonging to 3 classes.\n",
            "Found 874 images belonging to 3 classes.\n"
          ]
        }
      ],
      "source": [
        "# Membagi dataset menjadi train set dan validation set.\n",
        "\n",
        "from keras.preprocessing.image import ImageDataGenerator\n",
        "\n",
        "train_datagen = ImageDataGenerator(\n",
        "                rescale=1./255,\n",
        "                rotation_range=20,\n",
        "                horizontal_flip=True,\n",
        "                shear_range = 0.2,\n",
        "                fill_mode = 'nearest',\n",
        "                validation_split=0.4)\n",
        "\n",
        "validation_datagen = ImageDataGenerator(rescale = 1.0/255,\n",
        "                                        validation_split=0.4)\n",
        "\n",
        "# Update base_dir to the correct directory path\n",
        "base_dir = '/tmp/rockpaperscissors/rps-cv-images'\n",
        "\n",
        "\n",
        "train_generator = train_datagen.flow_from_directory(\n",
        "        base_dir,\n",
        "        target_size=(100,150),\n",
        "        batch_size=32,\n",
        "        class_mode='categorical',\n",
        "        subset='training')\n",
        "\n",
        "validation_generator = validation_datagen.flow_from_directory(\n",
        "        base_dir,\n",
        "        target_size=(100,150),\n",
        "        batch_size=32,\n",
        "        class_mode='categorical',\n",
        "        subset='validation')\n"
      ]
    },
    {
      "cell_type": "code",
      "execution_count": 55,
      "metadata": {
        "id": "Ya0l4tN-dFzS",
        "colab": {
          "base_uri": "https://localhost:8080/"
        },
        "outputId": "8cf3e5d1-d381-4aec-8a45-c0a5d0f62d08"
      },
      "outputs": [
        {
          "output_type": "stream",
          "name": "stdout",
          "text": [
            "Found 2188 images belonging to 3 classes.\n",
            "Found 0 images belonging to 3 classes.\n"
          ]
        }
      ],
      "source": [
        "# Inisialisasi ImageDataGenerator untuk augmentasi gambar\n",
        "\n",
        "datagen = ImageDataGenerator(\n",
        "\n",
        "    rotation_range=20,       # Rentang rotasi gambar\n",
        "    width_shift_range=0.2,   # Rentang pergeseran horizontal\n",
        "    height_shift_range=0.2,  # Rentang pergeseran vertikal\n",
        "    shear_range=0.2,         # Rentang pergeseran sudut shear\n",
        "    zoom_range=0.2,          # Rentang zoom\n",
        "    horizontal_flip=True,    # Menerapkan flip horizontal\n",
        "    fill_mode='nearest'      # Metode pengisian piksel yang hilang\n",
        "\n",
        ")\n",
        "\n",
        "# Definisi direktori untuk data training, mengacu pada direktori tempat data diekstrak\n",
        "\n",
        "train_directory = '/tmp/rockpaperscissors/rps-cv-images'\n",
        "\n",
        "\n",
        "\n",
        "# Menggunakan ImageDataGenerator untuk membaca dan mengaugmentasi gambar dari direktori train_set\n",
        "\n",
        "train_generator = datagen.flow_from_directory(\n",
        "\n",
        "    train_directory,\n",
        "    target_size=(150, 150),  # Ukuran gambar yang diharapkan\n",
        "    batch_size=32,           # Jumlah gambar yang akan di-generate setiap iterasi\n",
        "    class_mode='categorical', # Mode kelas untuk tugas klasifikasi multikelas\n",
        "    subset='training'\n",
        "\n",
        ")\n",
        "\n",
        "# Definisi direktori untuk data validasi\n",
        "\n",
        "validation_directory = '/tmp/rockpaperscissors/rps-cv-images'\n",
        "\n",
        "\n",
        "\n",
        "# Menggunakan ImageDataGenerator untuk membaca dan mengaugmentasi gambar dari direktori validation_set\n",
        "\n",
        "validation_generator = datagen.flow_from_directory(\n",
        "\n",
        "    validation_directory,\n",
        "    target_size=(150, 150),\n",
        "    batch_size=32,\n",
        "    class_mode='categorical',\n",
        "    subset='validation'\n",
        "\n",
        ")"
      ]
    },
    {
      "cell_type": "code",
      "execution_count": 56,
      "metadata": {
        "id": "bXAnN5q5TrVR",
        "colab": {
          "base_uri": "https://localhost:8080/"
        },
        "outputId": "75f0517d-c22c-4cf3-f460-74377798aea6"
      },
      "outputs": [
        {
          "output_type": "stream",
          "name": "stdout",
          "text": [
            "Requirement already satisfied: tensorflow in /usr/local/lib/python3.10/dist-packages (2.15.0)\n",
            "Requirement already satisfied: absl-py>=1.0.0 in /usr/local/lib/python3.10/dist-packages (from tensorflow) (1.4.0)\n",
            "Requirement already satisfied: astunparse>=1.6.0 in /usr/local/lib/python3.10/dist-packages (from tensorflow) (1.6.3)\n",
            "Requirement already satisfied: flatbuffers>=23.5.26 in /usr/local/lib/python3.10/dist-packages (from tensorflow) (24.3.25)\n",
            "Requirement already satisfied: gast!=0.5.0,!=0.5.1,!=0.5.2,>=0.2.1 in /usr/local/lib/python3.10/dist-packages (from tensorflow) (0.5.4)\n",
            "Requirement already satisfied: google-pasta>=0.1.1 in /usr/local/lib/python3.10/dist-packages (from tensorflow) (0.2.0)\n",
            "Requirement already satisfied: h5py>=2.9.0 in /usr/local/lib/python3.10/dist-packages (from tensorflow) (3.9.0)\n",
            "Requirement already satisfied: libclang>=13.0.0 in /usr/local/lib/python3.10/dist-packages (from tensorflow) (18.1.1)\n",
            "Requirement already satisfied: ml-dtypes~=0.2.0 in /usr/local/lib/python3.10/dist-packages (from tensorflow) (0.2.0)\n",
            "Requirement already satisfied: numpy<2.0.0,>=1.23.5 in /usr/local/lib/python3.10/dist-packages (from tensorflow) (1.25.2)\n",
            "Requirement already satisfied: opt-einsum>=2.3.2 in /usr/local/lib/python3.10/dist-packages (from tensorflow) (3.3.0)\n",
            "Requirement already satisfied: packaging in /usr/local/lib/python3.10/dist-packages (from tensorflow) (24.1)\n",
            "Requirement already satisfied: protobuf!=4.21.0,!=4.21.1,!=4.21.2,!=4.21.3,!=4.21.4,!=4.21.5,<5.0.0dev,>=3.20.3 in /usr/local/lib/python3.10/dist-packages (from tensorflow) (3.20.3)\n",
            "Requirement already satisfied: setuptools in /usr/local/lib/python3.10/dist-packages (from tensorflow) (67.7.2)\n",
            "Requirement already satisfied: six>=1.12.0 in /usr/local/lib/python3.10/dist-packages (from tensorflow) (1.16.0)\n",
            "Requirement already satisfied: termcolor>=1.1.0 in /usr/local/lib/python3.10/dist-packages (from tensorflow) (2.4.0)\n",
            "Requirement already satisfied: typing-extensions>=3.6.6 in /usr/local/lib/python3.10/dist-packages (from tensorflow) (4.12.2)\n",
            "Requirement already satisfied: wrapt<1.15,>=1.11.0 in /usr/local/lib/python3.10/dist-packages (from tensorflow) (1.14.1)\n",
            "Requirement already satisfied: tensorflow-io-gcs-filesystem>=0.23.1 in /usr/local/lib/python3.10/dist-packages (from tensorflow) (0.37.0)\n",
            "Requirement already satisfied: grpcio<2.0,>=1.24.3 in /usr/local/lib/python3.10/dist-packages (from tensorflow) (1.64.1)\n",
            "Requirement already satisfied: tensorboard<2.16,>=2.15 in /usr/local/lib/python3.10/dist-packages (from tensorflow) (2.15.2)\n",
            "Requirement already satisfied: tensorflow-estimator<2.16,>=2.15.0 in /usr/local/lib/python3.10/dist-packages (from tensorflow) (2.15.0)\n",
            "Requirement already satisfied: keras<2.16,>=2.15.0 in /usr/local/lib/python3.10/dist-packages (from tensorflow) (2.15.0)\n",
            "Requirement already satisfied: wheel<1.0,>=0.23.0 in /usr/local/lib/python3.10/dist-packages (from astunparse>=1.6.0->tensorflow) (0.43.0)\n",
            "Requirement already satisfied: google-auth<3,>=1.6.3 in /usr/local/lib/python3.10/dist-packages (from tensorboard<2.16,>=2.15->tensorflow) (2.27.0)\n",
            "Requirement already satisfied: google-auth-oauthlib<2,>=0.5 in /usr/local/lib/python3.10/dist-packages (from tensorboard<2.16,>=2.15->tensorflow) (1.2.0)\n",
            "Requirement already satisfied: markdown>=2.6.8 in /usr/local/lib/python3.10/dist-packages (from tensorboard<2.16,>=2.15->tensorflow) (3.6)\n",
            "Requirement already satisfied: requests<3,>=2.21.0 in /usr/local/lib/python3.10/dist-packages (from tensorboard<2.16,>=2.15->tensorflow) (2.31.0)\n",
            "Requirement already satisfied: tensorboard-data-server<0.8.0,>=0.7.0 in /usr/local/lib/python3.10/dist-packages (from tensorboard<2.16,>=2.15->tensorflow) (0.7.2)\n",
            "Requirement already satisfied: werkzeug>=1.0.1 in /usr/local/lib/python3.10/dist-packages (from tensorboard<2.16,>=2.15->tensorflow) (3.0.3)\n",
            "Requirement already satisfied: cachetools<6.0,>=2.0.0 in /usr/local/lib/python3.10/dist-packages (from google-auth<3,>=1.6.3->tensorboard<2.16,>=2.15->tensorflow) (5.3.3)\n",
            "Requirement already satisfied: pyasn1-modules>=0.2.1 in /usr/local/lib/python3.10/dist-packages (from google-auth<3,>=1.6.3->tensorboard<2.16,>=2.15->tensorflow) (0.4.0)\n",
            "Requirement already satisfied: rsa<5,>=3.1.4 in /usr/local/lib/python3.10/dist-packages (from google-auth<3,>=1.6.3->tensorboard<2.16,>=2.15->tensorflow) (4.9)\n",
            "Requirement already satisfied: requests-oauthlib>=0.7.0 in /usr/local/lib/python3.10/dist-packages (from google-auth-oauthlib<2,>=0.5->tensorboard<2.16,>=2.15->tensorflow) (1.3.1)\n",
            "Requirement already satisfied: charset-normalizer<4,>=2 in /usr/local/lib/python3.10/dist-packages (from requests<3,>=2.21.0->tensorboard<2.16,>=2.15->tensorflow) (3.3.2)\n",
            "Requirement already satisfied: idna<4,>=2.5 in /usr/local/lib/python3.10/dist-packages (from requests<3,>=2.21.0->tensorboard<2.16,>=2.15->tensorflow) (3.7)\n",
            "Requirement already satisfied: urllib3<3,>=1.21.1 in /usr/local/lib/python3.10/dist-packages (from requests<3,>=2.21.0->tensorboard<2.16,>=2.15->tensorflow) (2.0.7)\n",
            "Requirement already satisfied: certifi>=2017.4.17 in /usr/local/lib/python3.10/dist-packages (from requests<3,>=2.21.0->tensorboard<2.16,>=2.15->tensorflow) (2024.6.2)\n",
            "Requirement already satisfied: MarkupSafe>=2.1.1 in /usr/local/lib/python3.10/dist-packages (from werkzeug>=1.0.1->tensorboard<2.16,>=2.15->tensorflow) (2.1.5)\n",
            "Requirement already satisfied: pyasn1<0.7.0,>=0.4.6 in /usr/local/lib/python3.10/dist-packages (from pyasn1-modules>=0.2.1->google-auth<3,>=1.6.3->tensorboard<2.16,>=2.15->tensorflow) (0.6.0)\n",
            "Requirement already satisfied: oauthlib>=3.0.0 in /usr/local/lib/python3.10/dist-packages (from requests-oauthlib>=0.7.0->google-auth-oauthlib<2,>=0.5->tensorboard<2.16,>=2.15->tensorflow) (3.2.2)\n"
          ]
        }
      ],
      "source": [
        "# Image Data Generator\n",
        "\n",
        "!pip install tensorflow\n",
        "import tensorflow as tf\n",
        "\n",
        "model = tf.keras.models.Sequential([\n",
        "    tf.keras.layers.Conv2D(32, (3,3), activation='relu', input_shape=(150, 150, 3)),\n",
        "    tf.keras.layers.MaxPooling2D(2, 2),\n",
        "    tf.keras.layers.Conv2D(64, (3,3), activation='relu'),\n",
        "    tf.keras.layers.MaxPooling2D(2,2),\n",
        "    tf.keras.layers.Conv2D(128, (3,3), activation='relu'),\n",
        "    tf.keras.layers.MaxPooling2D(2,2),\n",
        "    tf.keras.layers.Conv2D(512, (3,3), activation='relu'),\n",
        "    tf.keras.layers.MaxPooling2D(2,2),\n",
        "    tf.keras.layers.Flatten(),\n",
        "    tf.keras.layers.Dense(512, activation='relu'),\n",
        "    tf.keras.layers.Dense(3, activation='softmax')\n",
        "])\n"
      ]
    },
    {
      "cell_type": "code",
      "execution_count": 57,
      "metadata": {
        "colab": {
          "base_uri": "https://localhost:8080/"
        },
        "id": "PEXQFXgFTyAg",
        "outputId": "fa58b191-66bc-42dd-cc9d-eba0c4df354b"
      },
      "outputs": [
        {
          "output_type": "stream",
          "name": "stdout",
          "text": [
            "Model: \"sequential_9\"\n",
            "_________________________________________________________________\n",
            " Layer (type)                Output Shape              Param #   \n",
            "=================================================================\n",
            " conv2d_40 (Conv2D)          (None, 148, 148, 32)      896       \n",
            "                                                                 \n",
            " max_pooling2d_40 (MaxPooli  (None, 74, 74, 32)        0         \n",
            " ng2D)                                                           \n",
            "                                                                 \n",
            " conv2d_41 (Conv2D)          (None, 72, 72, 64)        18496     \n",
            "                                                                 \n",
            " max_pooling2d_41 (MaxPooli  (None, 36, 36, 64)        0         \n",
            " ng2D)                                                           \n",
            "                                                                 \n",
            " conv2d_42 (Conv2D)          (None, 34, 34, 128)       73856     \n",
            "                                                                 \n",
            " max_pooling2d_42 (MaxPooli  (None, 17, 17, 128)       0         \n",
            " ng2D)                                                           \n",
            "                                                                 \n",
            " conv2d_43 (Conv2D)          (None, 15, 15, 512)       590336    \n",
            "                                                                 \n",
            " max_pooling2d_43 (MaxPooli  (None, 7, 7, 512)         0         \n",
            " ng2D)                                                           \n",
            "                                                                 \n",
            " flatten_10 (Flatten)        (None, 25088)             0         \n",
            "                                                                 \n",
            " dense_19 (Dense)            (None, 512)               12845568  \n",
            "                                                                 \n",
            " dense_20 (Dense)            (None, 3)                 1539      \n",
            "                                                                 \n",
            "=================================================================\n",
            "Total params: 13530691 (51.62 MB)\n",
            "Trainable params: 13530691 (51.62 MB)\n",
            "Non-trainable params: 0 (0.00 Byte)\n",
            "_________________________________________________________________\n"
          ]
        }
      ],
      "source": [
        "model.summary()"
      ]
    },
    {
      "cell_type": "code",
      "execution_count": 60,
      "metadata": {
        "colab": {
          "base_uri": "https://localhost:8080/"
        },
        "id": "MuK3lNurUBbC",
        "outputId": "23f1d48f-7e08-4668-b789-d2df86ea7f38"
      },
      "outputs": [
        {
          "output_type": "stream",
          "name": "stdout",
          "text": [
            "Epoch 1/40\n",
            "25/25 - 76s - loss: 0.1287 - accuracy: 0.9625 - 76s/epoch - 3s/step\n",
            "Epoch 2/40\n",
            "25/25 - 61s - loss: 0.0991 - accuracy: 0.9688 - 61s/epoch - 2s/step\n",
            "Epoch 3/40\n",
            "25/25 - 64s - loss: 0.0652 - accuracy: 0.9825 - 64s/epoch - 3s/step\n",
            "Epoch 4/40\n",
            "25/25 - 61s - loss: 0.1150 - accuracy: 0.9762 - 61s/epoch - 2s/step\n",
            "Epoch 5/40\n",
            "25/25 - 61s - loss: 0.0896 - accuracy: 0.9775 - 61s/epoch - 2s/step\n",
            "Epoch 6/40\n",
            "25/25 - 62s - loss: 0.0529 - accuracy: 0.9808 - 62s/epoch - 2s/step\n",
            "Epoch 7/40\n",
            "25/25 - 62s - loss: 0.0582 - accuracy: 0.9825 - 62s/epoch - 2s/step\n",
            "Epoch 8/40\n",
            "25/25 - 59s - loss: 0.0838 - accuracy: 0.9731 - 59s/epoch - 2s/step\n",
            "Epoch 9/40\n",
            "25/25 - 61s - loss: 0.0660 - accuracy: 0.9821 - 61s/epoch - 2s/step\n",
            "Epoch 10/40\n",
            "25/25 - 64s - loss: 0.0443 - accuracy: 0.9825 - 64s/epoch - 3s/step\n",
            "Epoch 11/40\n",
            "25/25 - 60s - loss: 0.0317 - accuracy: 0.9912 - 60s/epoch - 2s/step\n",
            "Epoch 12/40\n",
            "25/25 - 64s - loss: 0.0709 - accuracy: 0.9787 - 64s/epoch - 3s/step\n",
            "Epoch 13/40\n",
            "25/25 - 62s - loss: 0.0735 - accuracy: 0.9808 - 62s/epoch - 2s/step\n",
            "Epoch 14/40\n",
            "25/25 - 61s - loss: 0.1355 - accuracy: 0.9538 - 61s/epoch - 2s/step\n",
            "Epoch 15/40\n",
            "25/25 - 61s - loss: 0.1095 - accuracy: 0.9769 - 61s/epoch - 2s/step\n",
            "Epoch 16/40\n",
            "25/25 - 61s - loss: 0.0816 - accuracy: 0.9750 - 61s/epoch - 2s/step\n",
            "Epoch 17/40\n",
            "25/25 - 60s - loss: 0.0948 - accuracy: 0.9725 - 60s/epoch - 2s/step\n",
            "Epoch 18/40\n",
            "25/25 - 60s - loss: 0.0792 - accuracy: 0.9775 - 60s/epoch - 2s/step\n",
            "Epoch 19/40\n",
            "25/25 - 61s - loss: 0.0561 - accuracy: 0.9850 - 61s/epoch - 2s/step\n",
            "Epoch 20/40\n",
            "25/25 - 60s - loss: 0.0767 - accuracy: 0.9800 - 60s/epoch - 2s/step\n",
            "Epoch 21/40\n",
            "25/25 - 59s - loss: 0.0535 - accuracy: 0.9775 - 59s/epoch - 2s/step\n",
            "Epoch 22/40\n",
            "25/25 - 63s - loss: 0.0616 - accuracy: 0.9762 - 63s/epoch - 3s/step\n",
            "Epoch 23/40\n",
            "25/25 - 59s - loss: 0.0486 - accuracy: 0.9859 - 59s/epoch - 2s/step\n",
            "Epoch 24/40\n",
            "25/25 - 58s - loss: 0.0545 - accuracy: 0.9897 - 58s/epoch - 2s/step\n",
            "Epoch 25/40\n",
            "25/25 - 60s - loss: 0.0563 - accuracy: 0.9787 - 60s/epoch - 2s/step\n",
            "Epoch 26/40\n",
            "25/25 - 61s - loss: 0.0427 - accuracy: 0.9887 - 61s/epoch - 2s/step\n",
            "Epoch 27/40\n",
            "25/25 - 60s - loss: 0.0340 - accuracy: 0.9887 - 60s/epoch - 2s/step\n",
            "Epoch 28/40\n",
            "25/25 - 58s - loss: 0.0272 - accuracy: 0.9923 - 58s/epoch - 2s/step\n",
            "Epoch 29/40\n",
            "25/25 - 61s - loss: 0.0604 - accuracy: 0.9808 - 61s/epoch - 2s/step\n",
            "Epoch 30/40\n",
            "25/25 - 58s - loss: 0.0991 - accuracy: 0.9692 - 58s/epoch - 2s/step\n",
            "Epoch 31/40\n",
            "25/25 - 60s - loss: 0.1175 - accuracy: 0.9613 - 60s/epoch - 2s/step\n",
            "Epoch 32/40\n",
            "25/25 - 63s - loss: 0.1590 - accuracy: 0.9737 - 63s/epoch - 3s/step\n",
            "Epoch 33/40\n",
            "25/25 - 60s - loss: 0.0781 - accuracy: 0.9812 - 60s/epoch - 2s/step\n",
            "Epoch 34/40\n",
            "25/25 - 61s - loss: 0.0506 - accuracy: 0.9837 - 61s/epoch - 2s/step\n",
            "Epoch 35/40\n",
            "25/25 - 60s - loss: 0.1110 - accuracy: 0.9718 - 60s/epoch - 2s/step\n",
            "Epoch 36/40\n",
            "25/25 - 61s - loss: 0.0698 - accuracy: 0.9812 - 61s/epoch - 2s/step\n",
            "Epoch 37/40\n",
            "25/25 - 61s - loss: 0.0835 - accuracy: 0.9762 - 61s/epoch - 2s/step\n",
            "Epoch 38/40\n",
            "25/25 - 61s - loss: 0.0650 - accuracy: 0.9825 - 61s/epoch - 2s/step\n",
            "Epoch 39/40\n",
            "25/25 - 62s - loss: 0.0552 - accuracy: 0.9800 - 62s/epoch - 2s/step\n",
            "Epoch 40/40\n",
            "25/25 - 61s - loss: 0.0582 - accuracy: 0.9912 - 61s/epoch - 2s/step\n"
          ]
        },
        {
          "output_type": "execute_result",
          "data": {
            "text/plain": [
              "<keras.src.callbacks.History at 0x7edd250d10c0>"
            ]
          },
          "metadata": {},
          "execution_count": 60
        }
      ],
      "source": [
        "# compile model dengan 'adam' optimizer loss function 'categorical_crossentropy'\n",
        "model.compile(loss='categorical_crossentropy',\n",
        "              optimizer=tf.optimizers.Adam(),\n",
        "              metrics=['accuracy'])\n",
        "\n",
        "# latih model dengan model.fit\n",
        "model.fit(\n",
        "      train_generator,\n",
        "      steps_per_epoch=25,  # berapa batch yang akan dieksekusi pada setiap epoch\n",
        "      epochs=40, # tambahkan epochs jika akurasi model belum optimal\n",
        "      validation_data=validation_generator, # menampilkan akurasi pengujian data validasi\n",
        "      validation_steps=5,  # berapa batch yang akan dieksekusi pada setiap epoch\n",
        "      verbose=2)"
      ]
    },
    {
      "cell_type": "code",
      "execution_count": null,
      "metadata": {
        "colab": {
          "base_uri": "https://localhost:8080/",
          "height": 56
        },
        "id": "Rf8EAUathF3y",
        "outputId": "212f65ae-b7b6-4896-f827-ee274f2ea9d9"
      },
      "outputs": [
        {
          "data": {
            "text/html": [
              "\n",
              "     <input type=\"file\" id=\"files-b498fe1e-fdbe-460b-85da-11a7e5684e0d\" name=\"files[]\" multiple disabled\n",
              "        style=\"border:none\" />\n",
              "     <output id=\"result-b498fe1e-fdbe-460b-85da-11a7e5684e0d\">\n",
              "      Upload widget is only available when the cell has been executed in the\n",
              "      current browser session. Please rerun this cell to enable.\n",
              "      </output>\n",
              "      <script>// Copyright 2017 Google LLC\n",
              "//\n",
              "// Licensed under the Apache License, Version 2.0 (the \"License\");\n",
              "// you may not use this file except in compliance with the License.\n",
              "// You may obtain a copy of the License at\n",
              "//\n",
              "//      http://www.apache.org/licenses/LICENSE-2.0\n",
              "//\n",
              "// Unless required by applicable law or agreed to in writing, software\n",
              "// distributed under the License is distributed on an \"AS IS\" BASIS,\n",
              "// WITHOUT WARRANTIES OR CONDITIONS OF ANY KIND, either express or implied.\n",
              "// See the License for the specific language governing permissions and\n",
              "// limitations under the License.\n",
              "\n",
              "/**\n",
              " * @fileoverview Helpers for google.colab Python module.\n",
              " */\n",
              "(function(scope) {\n",
              "function span(text, styleAttributes = {}) {\n",
              "  const element = document.createElement('span');\n",
              "  element.textContent = text;\n",
              "  for (const key of Object.keys(styleAttributes)) {\n",
              "    element.style[key] = styleAttributes[key];\n",
              "  }\n",
              "  return element;\n",
              "}\n",
              "\n",
              "// Max number of bytes which will be uploaded at a time.\n",
              "const MAX_PAYLOAD_SIZE = 100 * 1024;\n",
              "\n",
              "function _uploadFiles(inputId, outputId) {\n",
              "  const steps = uploadFilesStep(inputId, outputId);\n",
              "  const outputElement = document.getElementById(outputId);\n",
              "  // Cache steps on the outputElement to make it available for the next call\n",
              "  // to uploadFilesContinue from Python.\n",
              "  outputElement.steps = steps;\n",
              "\n",
              "  return _uploadFilesContinue(outputId);\n",
              "}\n",
              "\n",
              "// This is roughly an async generator (not supported in the browser yet),\n",
              "// where there are multiple asynchronous steps and the Python side is going\n",
              "// to poll for completion of each step.\n",
              "// This uses a Promise to block the python side on completion of each step,\n",
              "// then passes the result of the previous step as the input to the next step.\n",
              "function _uploadFilesContinue(outputId) {\n",
              "  const outputElement = document.getElementById(outputId);\n",
              "  const steps = outputElement.steps;\n",
              "\n",
              "  const next = steps.next(outputElement.lastPromiseValue);\n",
              "  return Promise.resolve(next.value.promise).then((value) => {\n",
              "    // Cache the last promise value to make it available to the next\n",
              "    // step of the generator.\n",
              "    outputElement.lastPromiseValue = value;\n",
              "    return next.value.response;\n",
              "  });\n",
              "}\n",
              "\n",
              "/**\n",
              " * Generator function which is called between each async step of the upload\n",
              " * process.\n",
              " * @param {string} inputId Element ID of the input file picker element.\n",
              " * @param {string} outputId Element ID of the output display.\n",
              " * @return {!Iterable<!Object>} Iterable of next steps.\n",
              " */\n",
              "function* uploadFilesStep(inputId, outputId) {\n",
              "  const inputElement = document.getElementById(inputId);\n",
              "  inputElement.disabled = false;\n",
              "\n",
              "  const outputElement = document.getElementById(outputId);\n",
              "  outputElement.innerHTML = '';\n",
              "\n",
              "  const pickedPromise = new Promise((resolve) => {\n",
              "    inputElement.addEventListener('change', (e) => {\n",
              "      resolve(e.target.files);\n",
              "    });\n",
              "  });\n",
              "\n",
              "  const cancel = document.createElement('button');\n",
              "  inputElement.parentElement.appendChild(cancel);\n",
              "  cancel.textContent = 'Cancel upload';\n",
              "  const cancelPromise = new Promise((resolve) => {\n",
              "    cancel.onclick = () => {\n",
              "      resolve(null);\n",
              "    };\n",
              "  });\n",
              "\n",
              "  // Wait for the user to pick the files.\n",
              "  const files = yield {\n",
              "    promise: Promise.race([pickedPromise, cancelPromise]),\n",
              "    response: {\n",
              "      action: 'starting',\n",
              "    }\n",
              "  };\n",
              "\n",
              "  cancel.remove();\n",
              "\n",
              "  // Disable the input element since further picks are not allowed.\n",
              "  inputElement.disabled = true;\n",
              "\n",
              "  if (!files) {\n",
              "    return {\n",
              "      response: {\n",
              "        action: 'complete',\n",
              "      }\n",
              "    };\n",
              "  }\n",
              "\n",
              "  for (const file of files) {\n",
              "    const li = document.createElement('li');\n",
              "    li.append(span(file.name, {fontWeight: 'bold'}));\n",
              "    li.append(span(\n",
              "        `(${file.type || 'n/a'}) - ${file.size} bytes, ` +\n",
              "        `last modified: ${\n",
              "            file.lastModifiedDate ? file.lastModifiedDate.toLocaleDateString() :\n",
              "                                    'n/a'} - `));\n",
              "    const percent = span('0% done');\n",
              "    li.appendChild(percent);\n",
              "\n",
              "    outputElement.appendChild(li);\n",
              "\n",
              "    const fileDataPromise = new Promise((resolve) => {\n",
              "      const reader = new FileReader();\n",
              "      reader.onload = (e) => {\n",
              "        resolve(e.target.result);\n",
              "      };\n",
              "      reader.readAsArrayBuffer(file);\n",
              "    });\n",
              "    // Wait for the data to be ready.\n",
              "    let fileData = yield {\n",
              "      promise: fileDataPromise,\n",
              "      response: {\n",
              "        action: 'continue',\n",
              "      }\n",
              "    };\n",
              "\n",
              "    // Use a chunked sending to avoid message size limits. See b/62115660.\n",
              "    let position = 0;\n",
              "    do {\n",
              "      const length = Math.min(fileData.byteLength - position, MAX_PAYLOAD_SIZE);\n",
              "      const chunk = new Uint8Array(fileData, position, length);\n",
              "      position += length;\n",
              "\n",
              "      const base64 = btoa(String.fromCharCode.apply(null, chunk));\n",
              "      yield {\n",
              "        response: {\n",
              "          action: 'append',\n",
              "          file: file.name,\n",
              "          data: base64,\n",
              "        },\n",
              "      };\n",
              "\n",
              "      let percentDone = fileData.byteLength === 0 ?\n",
              "          100 :\n",
              "          Math.round((position / fileData.byteLength) * 100);\n",
              "      percent.textContent = `${percentDone}% done`;\n",
              "\n",
              "    } while (position < fileData.byteLength);\n",
              "  }\n",
              "\n",
              "  // All done.\n",
              "  yield {\n",
              "    response: {\n",
              "      action: 'complete',\n",
              "    }\n",
              "  };\n",
              "}\n",
              "\n",
              "scope.google = scope.google || {};\n",
              "scope.google.colab = scope.google.colab || {};\n",
              "scope.google.colab._files = {\n",
              "  _uploadFiles,\n",
              "  _uploadFilesContinue,\n",
              "};\n",
              "})(self);\n",
              "</script> "
            ],
            "text/plain": [
              "<IPython.core.display.HTML object>"
            ]
          },
          "metadata": {},
          "output_type": "display_data"
        }
      ],
      "source": [
        "\n",
        "import numpy as np\n",
        "from google.colab import files\n",
        "from tensorflow.keras.preprocessing import image\n",
        "import matplotlib.pyplot as plt\n",
        "import matplotlib.image as mpimg\n",
        "%matplotlib inline\n",
        "\n",
        "uploaded = files.upload()\n",
        "\n",
        "for fn in uploaded.keys():\n",
        "\n",
        "  # predicting images\n",
        "  path = fn\n",
        "  img = image.load_img(path, target_size=(150,150))\n",
        "\n",
        "  imgplot = plt.imshow(img)\n",
        "  x = image.img_to_array(img)\n",
        "  x = np.expand_dims(x, axis=0)\n",
        "  images = np.vstack([x])\n",
        "\n",
        "  classes = model.predict(images, batch_size=10)\n",
        "  output_class = np.argmax(classes)\n",
        "  print(fn)\n",
        "  if output_class==0:\n",
        "   print('paper')\n",
        "  elif output_class==1:\n",
        "   print('rock')\n",
        "  else:\n",
        "   print('Scissors')"
      ]
    },
    {
      "cell_type": "code",
      "execution_count": null,
      "metadata": {
        "colab": {
          "background_save": true
        },
        "id": "Yw-4LDXQhl8B",
        "outputId": "78e17e2a-cb35-4a57-b3da-eb0a1fea8bc9"
      },
      "outputs": [
        {
          "ename": "NameError",
          "evalue": "name 'classes' is not defined",
          "output_type": "error",
          "traceback": [
            "\u001b[0;31m---------------------------------------------------------------------------\u001b[0m",
            "\u001b[0;31mNameError\u001b[0m                                 Traceback (most recent call last)",
            "\u001b[0;32m<ipython-input-64-8fc3e26b30dc>\u001b[0m in \u001b[0;36m<cell line: 1>\u001b[0;34m()\u001b[0m\n\u001b[0;32m----> 1\u001b[0;31m \u001b[0mclasses\u001b[0m\u001b[0;34m\u001b[0m\u001b[0;34m\u001b[0m\u001b[0m\n\u001b[0m",
            "\u001b[0;31mNameError\u001b[0m: name 'classes' is not defined"
          ]
        }
      ],
      "source": [
        "classes\n",
        "print(train_generator.class_indices)\n"
      ]
    },
    {
      "cell_type": "code",
      "execution_count": null,
      "metadata": {
        "id": "gQXaqkqohm71"
      },
      "outputs": [],
      "source": []
    }
  ],
  "metadata": {
    "colab": {
      "provenance": [],
      "authorship_tag": "ABX9TyM3BNVteZSPWKvlVCIfxKP7",
      "include_colab_link": true
    },
    "kernelspec": {
      "display_name": "Python 3",
      "name": "python3"
    },
    "language_info": {
      "name": "python"
    }
  },
  "nbformat": 4,
  "nbformat_minor": 0
}